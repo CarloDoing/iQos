{
 "cells": [
  {
   "cell_type": "markdown",
   "metadata": {},
   "source": [
    "# Slide Riassuntiva Mensile"
   ]
  },
  {
   "cell_type": "markdown",
   "metadata": {},
   "source": [
    "Questo Script calcola i numeri da inserire nella slide seguente (esempio)\n",
    "\n",
    "<img src=\"immagine.png\">"
   ]
  },
  {
   "cell_type": "code",
   "execution_count": 147,
   "metadata": {},
   "outputs": [],
   "source": [
    "import pandas as pd\n",
    "import iqos\n",
    "import seaborn as sns\n",
    "import numpy as np\n",
    "sns.set_style('darkgrid')\n",
    "%matplotlib inline"
   ]
  },
  {
   "cell_type": "code",
   "execution_count": null,
   "metadata": {},
   "outputs": [],
   "source": [
    "#MAIN--ZONA DI INPUT!!!------------------------------\n",
    "csv_name=\"/Users/ceriotticarlo/Desktop/Scaricato3Novembre.csv\"\n",
    "DF=pd.read_csv(csv_name,low_memory=False)\n",
    "#Pulitura: coach valorizzato, Motivazione: togli num.tel.non valido e telesurvey_primo_contatto\n",
    "DF=iqos.Ripulitura(DF)\n",
    "#Splitta Data Contatto: crea 3 colonne nuove: Day, Month, Year\n",
    "DF=iqos.Split_Data_in_Day_Month_Year(DF)\n",
    "DF_completo=DF.copy()\n",
    "#Filtra per data contatto: leggi come funziona funzione Estraction_based_on_dates con SHIFT+TAB\n",
    "DF=iqos.Estraction_based_on_dates(1,3,1,4,DF)"
   ]
  },
  {
   "cell_type": "markdown",
   "metadata": {},
   "source": [
    "## Calcolo dei numeri a sinistra (ELIGIBLE USERS)"
   ]
  },
  {
   "cell_type": "code",
   "execution_count": 53,
   "metadata": {},
   "outputs": [
    {
     "name": "stdout",
     "output_type": "stream",
     "text": [
      "Numero di Eligible users questo mese: 286\n"
     ]
    }
   ],
   "source": [
    "#Eligible users by month\n",
    "Eligible_Users_by_month=len(DF[DF['Progressivo_Follow_Up']==1])\n",
    "print('Numero di Eligible users questo mese: {}'.format(Eligible_Users_by_month))"
   ]
  },
  {
   "cell_type": "code",
   "execution_count": 101,
   "metadata": {},
   "outputs": [
    {
     "data": {
      "image/png": "[encoded data removed]",
      "text/plain": [
       "<matplotlib.figure.Figure at 0x11046da58>"
      ]
     },
     "metadata": {},
     "output_type": "display_data"
    }
   ],
   "source": [
    "a=DF_completo[DF_completo['Progressivo_Follow_Up']==1]\n",
    "import matplotlib.pyplot as plt\n",
    "plt.figure(figsize=(10,5))\n",
    "ax=sns.countplot(data=a,x='Month',hue='Genere')"
   ]
  },
  {
   "cell_type": "markdown",
   "metadata": {},
   "source": [
    "## Calcolo Total Users"
   ]
  },
  {
   "cell_type": "code",
   "execution_count": 102,
   "metadata": {},
   "outputs": [
    {
     "name": "stdout",
     "output_type": "stream",
     "text": [
      "Numero totale di Eligible: 47215\n"
     ]
    }
   ],
   "source": [
    "#Total eligible users: tutti da inizio\n",
    "Eligible_totale=sum(DF_completo['Progressivo_Follow_Up']==1)\n",
    "print('Numero totale di Eligible: {}'.format(Eligible_totale))"
   ]
  },
  {
   "cell_type": "markdown",
   "metadata": {},
   "source": [
    "## Calcolo del numero di messaggi scambiati"
   ]
  },
  {
   "cell_type": "code",
   "execution_count": 135,
   "metadata": {},
   "outputs": [
    {
     "name": "stdout",
     "output_type": "stream",
     "text": [
      "Numero di messaggi scambiati: 10.18407960199005\n"
     ]
    }
   ],
   "source": [
    "#Numero di messaggi\n",
    "Num_mess=DF['Numero_messaggi_scambiati'].astype(float).copy()\n",
    "Num_mess=Num_mess[Num_mess.between(4,100)]\n",
    "Num_mess=Num_mess.mean()+1\n",
    "print('Numero di messaggi scambiati: {}'.format(Num_mess))"
   ]
  },
  {
   "cell_type": "markdown",
   "metadata": {},
   "source": [
    "## Interaction Funnel"
   ]
  },
  {
   "cell_type": "code",
   "execution_count": null,
   "metadata": {
    "scrolled": true
   },
   "outputs": [
    {
     "name": "stdout",
     "output_type": "stream",
     "text": [
      "> <ipython-input-152-5bd2918ff725>(49)Calc_Funnel()\n",
      "-> print('Tutto 0')\n",
      "(Pdb) Num_int\n",
      "*** NameError: name 'Num_int' is not defined\n",
      "(Pdb) Num_Int\n",
      "0\n",
      "(Pdb) DF['Progressivo_Follow_Up']==Step\n",
      "150631     True\n",
      "150633     True\n",
      "150634     True\n",
      "150635     True\n",
      "150636     True\n",
      "150637     True\n",
      "150638     True\n",
      "150639     True\n",
      "150640     True\n",
      "150641     True\n",
      "150642     True\n",
      "150643     True\n",
      "150644     True\n",
      "150645     True\n",
      "150646     True\n",
      "150648     True\n",
      "150649     True\n",
      "150652     True\n",
      "150653     True\n",
      "150654     True\n",
      "150658     True\n",
      "150659     True\n",
      "150660     True\n",
      "150662     True\n",
      "150663     True\n",
      "150664     True\n",
      "150665     True\n",
      "150666     True\n",
      "150667     True\n",
      "150672     True\n",
      "          ...  \n",
      "213852    False\n",
      "213858    False\n",
      "213861    False\n",
      "213873    False\n",
      "213876    False\n",
      "213877    False\n",
      "213902    False\n",
      "213903    False\n",
      "213961    False\n",
      "213971    False\n",
      "213977    False\n",
      "213979    False\n",
      "214002    False\n",
      "214020    False\n",
      "214024    False\n",
      "214048    False\n",
      "214057    False\n",
      "214069    False\n",
      "214082    False\n",
      "214088    False\n",
      "214121    False\n",
      "214127    False\n",
      "214130    False\n",
      "214140    False\n",
      "214147    False\n",
      "214166    False\n",
      "214179    False\n",
      "214182    False\n",
      "214200    False\n",
      "214210    False\n",
      "Name: Progressivo_Follow_Up, Length: 455, dtype: bool\n",
      "(Pdb) Step\n",
      "'1'\n",
      "(Pdb) sum(DF['Progressivo_Follow_Up']==Step)\n",
      "286\n",
      "(Pdb) sum((DF['Progressivo_Follow_Up']==Step) & (DF['Risultato_contatto_Whatsapp']=='SI')\n",
      "*** SyntaxError: unexpected EOF while parsing\n",
      "(Pdb) (DF['Progressivo_Follow_Up']==Step) & (DF['Risultato_contatto_Whatsapp']=='SI'))\n",
      "*** SyntaxError: invalid syntax\n",
      "(Pdb) (DF['Progressivo_Follow_Up']==Step) & (DF['Risultato_contatto_Whatsapp']=='SI')\n",
      "150631    False\n",
      "150633    False\n",
      "150634    False\n",
      "150635    False\n",
      "150636    False\n",
      "150637    False\n",
      "150638    False\n",
      "150639    False\n",
      "150640    False\n",
      "150641    False\n",
      "150642    False\n",
      "150643    False\n",
      "150644    False\n",
      "150645    False\n",
      "150646    False\n",
      "150648    False\n",
      "150649    False\n",
      "150652    False\n",
      "150653    False\n",
      "150654    False\n",
      "150658    False\n",
      "150659    False\n",
      "150660    False\n",
      "150662    False\n",
      "150663    False\n",
      "150664    False\n",
      "150665    False\n",
      "150666    False\n",
      "150667    False\n",
      "150672    False\n",
      "          ...  \n",
      "213852    False\n",
      "213858    False\n",
      "213861    False\n",
      "213873    False\n",
      "213876    False\n",
      "213877    False\n",
      "213902    False\n",
      "213903    False\n",
      "213961    False\n",
      "213971    False\n",
      "213977    False\n",
      "213979    False\n",
      "214002    False\n",
      "214020    False\n",
      "214024    False\n",
      "214048    False\n",
      "214057    False\n",
      "214069    False\n",
      "214082    False\n",
      "214088    False\n",
      "214121    False\n",
      "214127    False\n",
      "214130    False\n",
      "214140    False\n",
      "214147    False\n",
      "214166    False\n",
      "214179    False\n",
      "214182    False\n",
      "214200    False\n",
      "214210    False\n",
      "Length: 455, dtype: bool\n"
     ]
    }
   ],
   "source": [
    "#Generazione dei Funnels\n",
    "import sys\n",
    "import pandas as pd\n",
    "import numpy as np\n",
    "import pdb\n",
    "import math\n",
    "\n",
    "def Pulitura_DF(DF,Skip=None):\n",
    "    #pdb.set_trace()\n",
    "    DF=DF[['User_ID','Progressivo_Follow_Up','Risultato_contatto_Whatsapp','Utente_Convertito','TIPOLOGIA_UTENTE']] #prendo le righe che mi servono\n",
    "    DF.User_ID=DF.User_ID.astype(str) #Trasformo in stringa tutto\n",
    "    DF.Progressivo_Follow_Up=DF.Progressivo_Follow_Up.astype(str)\n",
    "    DF.Risultato_contatto_Whatsapp=DF.Risultato_contatto_Whatsapp.astype(str)\n",
    "    DF.Utente_Convertito=DF.Utente_Convertito.astype(str)\n",
    "\n",
    "    DF=DF[DF.Utente_Convertito != 'Light'] #Scarto le righe che contengono light\n",
    "    DF=DF[DF.Progressivo_Follow_Up != 'Spontaneo'] #Scarto le righe che hanno Spontaneo come N_Contatto\n",
    "\n",
    "    #Mapping per inasattezze RISPOSTA\n",
    "    #Infatti, la colonna Risposta contiene il SI e NO scritto in molti modi\n",
    "    #Allora con map posso cambiarli tutti in NO e SI, in questo modo ho solo 2 tipi di risposta\n",
    "    risposte={'SI':'SI','No':'NO','no':'NO','Sì':'SI','NO':'NO'}\n",
    "    #DF['Risultato_contatto_Whatsapp']=DF['Risultato_contatto_Whatsapp'].map(risposte)\n",
    "    DF['Utente_Convertito']=DF['Utente_Convertito'].map(risposte)\n",
    "    risposte2={'Ha visualizzato e interagito':'SI',\n",
    "                'Ha visualizzato ma non ha interagito':'NO',\n",
    "                'Non ha visualizzato':'NO'}\n",
    "    DF['Risultato_contatto_Whatsapp']=DF['Risultato_contatto_Whatsapp'].map(risposte2)\n",
    "\n",
    "    #pdb.set_trace()\n",
    "    DF=DF[DF['TIPOLOGIA_UTENTE']!='UTENTI DELAYED'] #Tolgo gli utenti delayed se ce ne fossero\n",
    "    return(DF)\n",
    "\n",
    "def Calc_Funnel(DF,Step,User_id=None):\n",
    "\n",
    "    DF2=DF.copy()\n",
    "    if (Step!='1'):\n",
    "        DF=DF[((DF['Progressivo_Follow_Up']==Step) & (DF['User_ID'].isin(User_id)))]\n",
    "\n",
    "    #STEP 1\n",
    "    #INTERACTING USERS_1\n",
    "    #Num di utenti che rispondono al primo contatto\n",
    "    #Gli interacting users sono quelli che rispondono\n",
    "    Rows_Int=np.where((DF['Progressivo_Follow_Up']==Step) & (DF['Risultato_contatto_Whatsapp']=='SI'))\n",
    "    Num_Int=len(Rows_Int[0]) #Numero di interacting users\n",
    "\n",
    "    if Num_Int==0:\n",
    "        pdb.set_trace()\n",
    "        print('Tutto 0')\n",
    "        return()\n",
    "\n",
    "    Denominatore_Int_users=np.where((DF['Progressivo_Follow_Up']==Step) & ((DF['Risultato_contatto_Whatsapp']=='SI') | (DF['Risultato_contatto_Whatsapp']=='NO') | (DF['Risultato_contatto_Whatsapp'].isnull())))\n",
    "    Denominatore_Int_users=len(Denominatore_Int_users[0]) #Denominatore per calcolare la % di interac.users\n",
    "\n",
    "    # % degli utenti interacting\n",
    "    #pdb.set_trace()\n",
    "    Ratio_Int=(Num_Int/Denominatore_Int_users)*100\n",
    "\n",
    "    #Salvo in un dataframe a parte SOLO gli interactive users\n",
    "    DF_Int=DF.iloc[Rows_Int] #Rows_Int_1 contiene gli indici di interactive users\n",
    "\n",
    "    #CONVERTED\n",
    "\n",
    "    #Utenti dichiarati convertiti - Declared Conversion\n",
    "    Rows_Conv=np.where(DF_Int['Utente_Convertito']=='SI')\n",
    "    Num_Conv=len(Rows_Conv[0])\n",
    "\n",
    "    Denominatore_Converted=np.where((DF_Int['Utente_Convertito']=='SI') | (DF_Int['Utente_Convertito']=='NO') | (DF_Int['Utente_Convertito'].isnull()) )\n",
    "    Denominatore_Converted=len(Denominatore_Converted[0])\n",
    "    Ratio_Conv=(Num_Conv/Denominatore_Converted)*100\n",
    "\n",
    "    #IN CONVERSION\n",
    "    Rows_InConv=np.where((DF_Int['Utente_Convertito'].isnull())|(DF_Int['Utente_Convertito']=='NO'))\n",
    "    Num_InConv=len(Rows_InConv[0])\n",
    "    Denominatore_InConv=Denominatore_Converted\n",
    "    Ratio_InConv=(Num_InConv/Denominatore_InConv)*100\n",
    "\n",
    "    print('Step%s: Perc.Interacting %.2f, Perc.Converted %.2f,  Perc.InConversion %.2f' % (Step,Ratio_Int,Ratio_Conv,Ratio_InConv))\n",
    "    #pdb.set_trace()\n",
    "    #Ora che ho stampato i risultati per il primo step, devo passare i dati giusti per lo step2\n",
    "    #Sopravvivono solo gli utenti IN CONVERSION\n",
    "\n",
    "    #pdb.set_trace()\n",
    "    Rows_InConv=(((DF2['Utente_Convertito'].isnull())) & (DF2['Progressivo_Follow_Up']==Step) & (DF2['Risultato_contatto_Whatsapp']=='SI'))\n",
    "    User_ID_InConv=DF2[Rows_InConv]['User_ID']\n",
    "    User_ID_InConv=list(User_ID_InConv)\n",
    "\n",
    "    return(User_ID_InConv)\n",
    "\n",
    "\n",
    "#MAIN\n",
    "DF=Pulitura_DF(DF)\n",
    "User_ID_InConv_1=Calc_Funnel(DF,'1')\n",
    "User_ID_InConv_2=Calc_Funnel(DF,'2',User_ID_InConv_1)\n",
    "User_ID_InConv_3=Calc_Funnel(DF,'3',User_ID_InConv_2)\n",
    "User_ID_InConv_4=Calc_Funnel(DF,'4',User_ID_InConv_3)"
   ]
  },
  {
   "cell_type": "markdown",
   "metadata": {},
   "source": [
    "## Calcolo del Funnel (colonna centrale): INTERACTION LEVEL"
   ]
  },
  {
   "cell_type": "markdown",
   "metadata": {},
   "source": [
    "## HYPERCARE KPI"
   ]
  }
 ],
 "metadata": {
  "kernelspec": {
   "display_name": "Python 3",
   "language": "python",
   "name": "python3"
  },
  "language_info": {
   "codemirror_mode": {
    "name": "ipython",
    "version": 3
   },
   "file_extension": ".py",
   "mimetype": "text/x-python",
   "name": "python",
   "nbconvert_exporter": "python",
   "pygments_lexer": "ipython3",
   "version": "3.6.2"
  }
 },
 "nbformat": 4,
 "nbformat_minor": 2
}
