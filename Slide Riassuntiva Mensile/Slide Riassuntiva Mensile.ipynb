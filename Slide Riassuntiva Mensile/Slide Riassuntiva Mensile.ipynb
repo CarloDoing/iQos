{
 "cells": [
  {
   "cell_type": "markdown",
   "metadata": {},
   "source": [
    "# Slide Riassuntiva Mensile"
   ]
  },
  {
   "cell_type": "markdown",
   "metadata": {},
   "source": [
    "Questo Script calcola i numeri da inserire nella slide seguente (esempio)\n",
    "\n",
    "<img src=\"immagine.png\">"
   ]
  },
  {
   "cell_type": "code",
   "execution_count": null,
   "metadata": {},
   "outputs": [],
   "source": [
    "# Funzioni accessorie: non toccare!"
   ]
  },
  {
   "cell_type": "code",
   "execution_count": null,
   "metadata": {},
   "outputs": [],
   "source": [
    "#MAIN--ZONA DI INPUT!!!------------------------------\n",
    "import pandas as pd\n",
    "df=pd.read_csv('ExportScaricato23Gennaio2017.csv', low_memory=False)\n",
    "#Tolgo il coach Nan, quindi lo voglio solo valorizzato\n",
    "df=df[df['Coach'].notnull()]\n",
    "#Correggo motivazione: tolgo \"numero di telefono non valido\" e \"telesurvey primo contatto\"\n",
    "df=df[(df['Motivazione'] != 'NUMERO DI TELEFONO NON VALIDO') | (df['Motivazione'] != 'TELESURVEY PRIMO CONTATTO')]\n",
    "#Esplode la data contatto in day month year\n",
    "df=SistemaData(df)\n",
    "#Seleziona le date di inizio e fine(estremi inclusi)\n",
    "\n",
    "#--ZONA DI INPUT!!!-----------------------------------------\n",
    "start_day,start_month,last_day,last_month=12,9,30,10\n",
    "#Estrai le righe in base alla data\n",
    "df=Estraction_based_on_dates(start_day,start_month,last_day,last_month,df)\n",
    "#Coach valorizzato e Motivazione elimina telesurvey primo contatto e numero di telefono non valido\n",
    "df=Ripulitura(df)"
   ]
  },
  {
   "cell_type": "markdown",
   "metadata": {},
   "source": [
    "## Calcolo dei numeri a sinistra (ELIGIBLE USERS)"
   ]
  },
  {
   "cell_type": "code",
   "execution_count": 2,
   "metadata": {},
   "outputs": [],
   "source": [
    "import pandas as pd\n",
    "import iqos"
   ]
  },
  {
   "cell_type": "code",
   "execution_count": null,
   "metadata": {},
   "outputs": [],
   "source": [
    "DF=pd.read_csv()"
   ]
  },
  {
   "cell_type": "markdown",
   "metadata": {},
   "source": [
    "## Calcolo del Funnel (colonna centrale): INTERACTION LEVEL"
   ]
  },
  {
   "cell_type": "markdown",
   "metadata": {},
   "source": [
    "## HYPERCARE KPI"
   ]
  }
 ],
 "metadata": {
  "kernelspec": {
   "display_name": "Python 3",
   "language": "python",
   "name": "python3"
  },
  "language_info": {
   "codemirror_mode": {
    "name": "ipython",
    "version": 3
   },
   "file_extension": ".py",
   "mimetype": "text/x-python",
   "name": "python",
   "nbconvert_exporter": "python",
   "pygments_lexer": "ipython3",
   "version": "3.6.2"
  }
 },
 "nbformat": 4,
 "nbformat_minor": 2
}
