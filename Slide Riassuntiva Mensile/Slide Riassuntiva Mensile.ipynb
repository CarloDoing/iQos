{
 "cells": [
  {
   "cell_type": "markdown",
   "metadata": {},
   "source": [
    "# Slide Riassuntiva Mensile"
   ]
  },
  {
   "cell_type": "markdown",
   "metadata": {},
   "source": [
    "Questo Script calcola i numeri da inserire nella slide seguente (esempio)\n",
    "\n",
    "<img src=\"immagine.png\">"
   ]
  },
  {
   "cell_type": "code",
   "execution_count": 9,
   "metadata": {},
   "outputs": [],
   "source": [
    "import pandas as pd\n",
    "import iqos\n",
    "iqos.Estraction_based_on_dates"
   ]
  },
  {
   "cell_type": "markdown",
   "metadata": {},
   "source": [
    "## Zona di INPUT"
   ]
  },
  {
   "cell_type": "code",
   "execution_count": 3,
   "metadata": {},
   "outputs": [],
   "source": [
    "File_name=\"/Users/ceriotticarlo/Desktop/Export_Scaricato_23Gennaio2017.csv\"\n",
    "Start_Day,Start_Month,Start_Year=1,12,2017\n",
    "End_Day,End_Month,End_Year=31,12,2017"
   ]
  },
  {
   "cell_type": "markdown",
   "metadata": {},
   "source": [
    "## Media Messaggi Scambiati-Num.Eligible Users-Interaction Funnel"
   ]
  },
  {
   "cell_type": "code",
   "execution_count": 8,
   "metadata": {},
   "outputs": [
    {
     "ename": "TypeError",
     "evalue": "'>=' not supported between instances of 'str' and 'int'",
     "output_type": "error",
     "traceback": [
      "\u001b[0;31m---------------------------------------------------------------------------\u001b[0m",
      "\u001b[0;31mTypeError\u001b[0m                                 Traceback (most recent call last)",
      "\u001b[0;32m<ipython-input-8-502c68a8df67>\u001b[0m in \u001b[0;36m<module>\u001b[0;34m()\u001b[0m\n\u001b[1;32m    114\u001b[0m \u001b[0;34m\u001b[0m\u001b[0m\n\u001b[1;32m    115\u001b[0m \u001b[0;31m#MAIN\u001b[0m\u001b[0;34m\u001b[0m\u001b[0;34m\u001b[0m\u001b[0m\n\u001b[0;32m--> 116\u001b[0;31m \u001b[0mDF\u001b[0m\u001b[0;34m=\u001b[0m\u001b[0mPulitura_DF\u001b[0m\u001b[0;34m(\u001b[0m\u001b[0mFile_name\u001b[0m\u001b[0;34m,\u001b[0m\u001b[0mStart_Day\u001b[0m\u001b[0;34m,\u001b[0m\u001b[0mStart_Month\u001b[0m\u001b[0;34m,\u001b[0m\u001b[0mStart_Year\u001b[0m\u001b[0;34m,\u001b[0m\u001b[0mEnd_Day\u001b[0m\u001b[0;34m,\u001b[0m\u001b[0mEnd_Month\u001b[0m\u001b[0;34m,\u001b[0m\u001b[0mEnd_Year\u001b[0m\u001b[0;34m)\u001b[0m\u001b[0;34m\u001b[0m\u001b[0m\n\u001b[0m\u001b[1;32m    117\u001b[0m \u001b[0mUser_ID_InConv_1\u001b[0m\u001b[0;34m=\u001b[0m\u001b[0mCalc_Funnel\u001b[0m\u001b[0;34m(\u001b[0m\u001b[0mDF\u001b[0m\u001b[0;34m,\u001b[0m\u001b[0;34m'1'\u001b[0m\u001b[0;34m)\u001b[0m\u001b[0;34m\u001b[0m\u001b[0m\n\u001b[1;32m    118\u001b[0m \u001b[0mUser_ID_InConv_2\u001b[0m\u001b[0;34m=\u001b[0m\u001b[0mCalc_Funnel\u001b[0m\u001b[0;34m(\u001b[0m\u001b[0mDF\u001b[0m\u001b[0;34m,\u001b[0m\u001b[0;34m'2'\u001b[0m\u001b[0;34m,\u001b[0m\u001b[0mUser_ID_InConv_1\u001b[0m\u001b[0;34m)\u001b[0m\u001b[0;34m\u001b[0m\u001b[0m\n",
      "\u001b[0;32m<ipython-input-8-502c68a8df67>\u001b[0m in \u001b[0;36mPulitura_DF\u001b[0;34m(File_name, Start_Day, Start_Month, Start_Year, End_Day, End_Month, End_Year, Skip)\u001b[0m\n\u001b[1;32m     27\u001b[0m     \u001b[0mDF\u001b[0m\u001b[0;34m=\u001b[0m\u001b[0miqos\u001b[0m\u001b[0;34m.\u001b[0m\u001b[0mSplit_Data_in_Day_Month_Year\u001b[0m\u001b[0;34m(\u001b[0m\u001b[0mDF\u001b[0m\u001b[0;34m)\u001b[0m\u001b[0;34m\u001b[0m\u001b[0m\n\u001b[1;32m     28\u001b[0m     \u001b[0;31m#Filtra per data contatto: leggi come funziona funzione Estraction_based_on_dates con SHIFT+TAB\u001b[0m\u001b[0;34m\u001b[0m\u001b[0;34m\u001b[0m\u001b[0m\n\u001b[0;32m---> 29\u001b[0;31m     \u001b[0mDF\u001b[0m\u001b[0;34m=\u001b[0m\u001b[0miqos\u001b[0m\u001b[0;34m.\u001b[0m\u001b[0mEstraction_based_on_dates\u001b[0m\u001b[0;34m(\u001b[0m\u001b[0mStart_Day\u001b[0m\u001b[0;34m,\u001b[0m\u001b[0mStart_Month\u001b[0m\u001b[0;34m,\u001b[0m\u001b[0mStart_Year\u001b[0m\u001b[0;34m,\u001b[0m\u001b[0mEnd_Day\u001b[0m\u001b[0;34m,\u001b[0m\u001b[0mEnd_Month\u001b[0m\u001b[0;34m,\u001b[0m\u001b[0mEnd_Year\u001b[0m\u001b[0;34m,\u001b[0m\u001b[0mDF\u001b[0m\u001b[0;34m)\u001b[0m\u001b[0;34m\u001b[0m\u001b[0m\n\u001b[0m\u001b[1;32m     30\u001b[0m \u001b[0;34m\u001b[0m\u001b[0m\n\u001b[1;32m     31\u001b[0m     \u001b[0mCalcolo_M_Scambiati_Medio\u001b[0m\u001b[0;34m(\u001b[0m\u001b[0mDF\u001b[0m\u001b[0;34m)\u001b[0m\u001b[0;34m\u001b[0m\u001b[0m\n",
      "\u001b[0;32m/Library/Frameworks/Python.framework/Versions/3.6/lib/python3.6/site-packages/iqos.py\u001b[0m in \u001b[0;36mEstraction_based_on_dates\u001b[0;34m(start_day, start_month, last_day, last_month, start_year, last_year, df)\u001b[0m\n\u001b[1;32m     27\u001b[0m     return(df.loc[df['Day'].between(start_day,last_day,inclusive=True) & \\\n\u001b[1;32m     28\u001b[0m     \u001b[0mdf\u001b[0m\u001b[0;34m[\u001b[0m\u001b[0;34m'Month'\u001b[0m\u001b[0;34m]\u001b[0m\u001b[0;34m.\u001b[0m\u001b[0mbetween\u001b[0m\u001b[0;34m(\u001b[0m\u001b[0mstart_month\u001b[0m\u001b[0;34m,\u001b[0m\u001b[0mlast_month\u001b[0m\u001b[0;34m,\u001b[0m\u001b[0minclusive\u001b[0m\u001b[0;34m=\u001b[0m\u001b[0;32mTrue\u001b[0m\u001b[0;34m)\u001b[0m\u001b[0;34m&\u001b[0m\u001b[0;31m \u001b[0m\u001b[0;31m\\\u001b[0m\u001b[0;34m\u001b[0m\u001b[0m\n\u001b[0;32m---> 29\u001b[0;31m     (df['Year'].between(start_year,last_year,inclusive=True))])\n\u001b[0m\u001b[1;32m     30\u001b[0m \u001b[0;34m\u001b[0m\u001b[0m\n\u001b[1;32m     31\u001b[0m \u001b[0;32mdef\u001b[0m \u001b[0mRipulitura\u001b[0m\u001b[0;34m(\u001b[0m\u001b[0mDF\u001b[0m\u001b[0;34m)\u001b[0m\u001b[0;34m:\u001b[0m\u001b[0;34m\u001b[0m\u001b[0m\n",
      "\u001b[0;32m/Library/Frameworks/Python.framework/Versions/3.6/lib/python3.6/site-packages/pandas/core/series.py\u001b[0m in \u001b[0;36mbetween\u001b[0;34m(self, left, right, inclusive)\u001b[0m\n\u001b[1;32m   2573\u001b[0m         \"\"\"\n\u001b[1;32m   2574\u001b[0m         \u001b[0;32mif\u001b[0m \u001b[0minclusive\u001b[0m\u001b[0;34m:\u001b[0m\u001b[0;34m\u001b[0m\u001b[0m\n\u001b[0;32m-> 2575\u001b[0;31m             \u001b[0mlmask\u001b[0m \u001b[0;34m=\u001b[0m \u001b[0mself\u001b[0m \u001b[0;34m>=\u001b[0m \u001b[0mleft\u001b[0m\u001b[0;34m\u001b[0m\u001b[0m\n\u001b[0m\u001b[1;32m   2576\u001b[0m             \u001b[0mrmask\u001b[0m \u001b[0;34m=\u001b[0m \u001b[0mself\u001b[0m \u001b[0;34m<=\u001b[0m \u001b[0mright\u001b[0m\u001b[0;34m\u001b[0m\u001b[0m\n\u001b[1;32m   2577\u001b[0m         \u001b[0;32melse\u001b[0m\u001b[0;34m:\u001b[0m\u001b[0;34m\u001b[0m\u001b[0m\n",
      "\u001b[0;32m/Library/Frameworks/Python.framework/Versions/3.6/lib/python3.6/site-packages/pandas/core/ops.py\u001b[0m in \u001b[0;36mwrapper\u001b[0;34m(self, other, axis)\u001b[0m\n\u001b[1;32m    859\u001b[0m \u001b[0;34m\u001b[0m\u001b[0m\n\u001b[1;32m    860\u001b[0m             \u001b[0;32mwith\u001b[0m \u001b[0mnp\u001b[0m\u001b[0;34m.\u001b[0m\u001b[0merrstate\u001b[0m\u001b[0;34m(\u001b[0m\u001b[0mall\u001b[0m\u001b[0;34m=\u001b[0m\u001b[0;34m'ignore'\u001b[0m\u001b[0;34m)\u001b[0m\u001b[0;34m:\u001b[0m\u001b[0;34m\u001b[0m\u001b[0m\n\u001b[0;32m--> 861\u001b[0;31m                 \u001b[0mres\u001b[0m \u001b[0;34m=\u001b[0m \u001b[0mna_op\u001b[0m\u001b[0;34m(\u001b[0m\u001b[0mvalues\u001b[0m\u001b[0;34m,\u001b[0m \u001b[0mother\u001b[0m\u001b[0;34m)\u001b[0m\u001b[0;34m\u001b[0m\u001b[0m\n\u001b[0m\u001b[1;32m    862\u001b[0m             \u001b[0;32mif\u001b[0m \u001b[0mis_scalar\u001b[0m\u001b[0;34m(\u001b[0m\u001b[0mres\u001b[0m\u001b[0;34m)\u001b[0m\u001b[0;34m:\u001b[0m\u001b[0;34m\u001b[0m\u001b[0m\n\u001b[1;32m    863\u001b[0m                 raise TypeError('Could not compare %s type with Series' %\n",
      "\u001b[0;32m/Library/Frameworks/Python.framework/Versions/3.6/lib/python3.6/site-packages/pandas/core/ops.py\u001b[0m in \u001b[0;36mna_op\u001b[0;34m(x, y)\u001b[0m\n\u001b[1;32m    763\u001b[0m \u001b[0;34m\u001b[0m\u001b[0m\n\u001b[1;32m    764\u001b[0m         \u001b[0;32mif\u001b[0m \u001b[0mis_object_dtype\u001b[0m\u001b[0;34m(\u001b[0m\u001b[0mx\u001b[0m\u001b[0;34m.\u001b[0m\u001b[0mdtype\u001b[0m\u001b[0;34m)\u001b[0m\u001b[0;34m:\u001b[0m\u001b[0;34m\u001b[0m\u001b[0m\n\u001b[0;32m--> 765\u001b[0;31m             \u001b[0mresult\u001b[0m \u001b[0;34m=\u001b[0m \u001b[0m_comp_method_OBJECT_ARRAY\u001b[0m\u001b[0;34m(\u001b[0m\u001b[0mop\u001b[0m\u001b[0;34m,\u001b[0m \u001b[0mx\u001b[0m\u001b[0;34m,\u001b[0m \u001b[0my\u001b[0m\u001b[0;34m)\u001b[0m\u001b[0;34m\u001b[0m\u001b[0m\n\u001b[0m\u001b[1;32m    766\u001b[0m         \u001b[0;32melse\u001b[0m\u001b[0;34m:\u001b[0m\u001b[0;34m\u001b[0m\u001b[0m\n\u001b[1;32m    767\u001b[0m \u001b[0;34m\u001b[0m\u001b[0m\n",
      "\u001b[0;32m/Library/Frameworks/Python.framework/Versions/3.6/lib/python3.6/site-packages/pandas/core/ops.py\u001b[0m in \u001b[0;36m_comp_method_OBJECT_ARRAY\u001b[0;34m(op, x, y)\u001b[0m\n\u001b[1;32m    743\u001b[0m         \u001b[0mresult\u001b[0m \u001b[0;34m=\u001b[0m \u001b[0mlib\u001b[0m\u001b[0;34m.\u001b[0m\u001b[0mvec_compare\u001b[0m\u001b[0;34m(\u001b[0m\u001b[0mx\u001b[0m\u001b[0;34m,\u001b[0m \u001b[0my\u001b[0m\u001b[0;34m,\u001b[0m \u001b[0mop\u001b[0m\u001b[0;34m)\u001b[0m\u001b[0;34m\u001b[0m\u001b[0m\n\u001b[1;32m    744\u001b[0m     \u001b[0;32melse\u001b[0m\u001b[0;34m:\u001b[0m\u001b[0;34m\u001b[0m\u001b[0m\n\u001b[0;32m--> 745\u001b[0;31m         \u001b[0mresult\u001b[0m \u001b[0;34m=\u001b[0m \u001b[0mlib\u001b[0m\u001b[0;34m.\u001b[0m\u001b[0mscalar_compare\u001b[0m\u001b[0;34m(\u001b[0m\u001b[0mx\u001b[0m\u001b[0;34m,\u001b[0m \u001b[0my\u001b[0m\u001b[0;34m,\u001b[0m \u001b[0mop\u001b[0m\u001b[0;34m)\u001b[0m\u001b[0;34m\u001b[0m\u001b[0m\n\u001b[0m\u001b[1;32m    746\u001b[0m     \u001b[0;32mreturn\u001b[0m \u001b[0mresult\u001b[0m\u001b[0;34m\u001b[0m\u001b[0m\n\u001b[1;32m    747\u001b[0m \u001b[0;34m\u001b[0m\u001b[0m\n",
      "\u001b[0;32mpandas/_libs/lib.pyx\u001b[0m in \u001b[0;36mpandas._libs.lib.scalar_compare (pandas/_libs/lib.c:13717)\u001b[0;34m()\u001b[0m\n",
      "\u001b[0;31mTypeError\u001b[0m: '>=' not supported between instances of 'str' and 'int'"
     ]
    }
   ],
   "source": [
    "#Generazione dei Funnels\n",
    "import sys\n",
    "import pandas as pd\n",
    "import numpy as np\n",
    "import pdb\n",
    "import math\n",
    "#Interaction channel\n",
    "\n",
    "def Number_Eligible(DF):\n",
    "\tNum_Eligible=len(DF[DF['Progressivo_Follow_Up']==1])\n",
    "\tprint('Numero Eligible Users ',Num_Eligible)\n",
    "\n",
    "def Calcolo_M_Scambiati_Medio(DF):\n",
    "\tVals=DF['Numero_messaggi_scambiati']\n",
    "\tVals=Vals.dropna()\n",
    "\tVals=pd.to_numeric(Vals, errors='coerce')\n",
    "\tVals=Vals[Vals>4]\n",
    "\tprint('Media messaggi scambiati:',Vals.mean()+1)\n",
    "\n",
    "def Pulitura_DF(File_name,Start_Day,Start_Month,Start_Year,End_Day,End_Month,End_Year,Skip=None):\n",
    "    #pdb.set_trace()\n",
    "    DF=pd.read_csv(File_name ,low_memory=False, sep=',') #apertura file csv\n",
    "    #Pulitura: coach valorizzato, Motivazione: togli num.tel.non valido e telesurvey_primo_contatto\n",
    "    \n",
    "    DF=iqos.Ripulitura(DF)\n",
    "    #Splitta Data Contatto: crea 3 colonne nuove: Day, Month, Year\n",
    "    DF=iqos.Split_Data_in_Day_Month_Year(DF)\n",
    "    #Filtra per data contatto: leggi come funziona funzione Estraction_based_on_dates con SHIFT+TAB\n",
    "    DF=iqos.Estraction_based_on_dates(Start_Day,Start_Month,Start_Year,End_Day,End_Month,End_Year,DF)\n",
    "\n",
    "    Calcolo_M_Scambiati_Medio(DF)\n",
    "    Number_Eligible(DF)\n",
    "\n",
    "    DF=DF[['User_ID','Progressivo_Follow_Up','Risultato_contatto_Whatsapp','Utente_Convertito','TIPOLOGIA_UTENTE']] #prendo le righe che mi servono\n",
    "    DF.User_ID=DF.User_ID.astype(str) #Trasformo in stringa tutto\n",
    "    DF.Progressivo_Follow_Up=DF.Progressivo_Follow_Up.astype(str)\n",
    "    DF.Risultato_contatto_Whatsapp=DF.Risultato_contatto_Whatsapp.astype(str)\n",
    "    DF.Utente_Convertito=DF.Utente_Convertito.astype(str)\n",
    "\n",
    "    DF=DF[DF.Utente_Convertito != 'Light'] #Scarto le righe che contengono light\n",
    "    DF=DF[DF.Progressivo_Follow_Up != 'Spontaneo'] #Scarto le righe che hanno Spontaneo come N_Contatto\n",
    "\n",
    "    #Mapping per inasattezze RISPOSTA\n",
    "    #Infatti, la colonna Risposta contiene il SI e NO scritto in molti modi\n",
    "    #Allora con map posso cambiarli tutti in NO e SI, in questo modo ho solo 2 tipi di risposta\n",
    "    risposte={'SI':'SI','No':'NO','no':'NO','Sì':'SI','NO':'NO'}\n",
    "    #DF['Risultato_contatto_Whatsapp']=DF['Risultato_contatto_Whatsapp'].map(risposte)\n",
    "    DF['Utente_Convertito']=DF['Utente_Convertito'].map(risposte)\n",
    "    risposte2={'Ha visualizzato e interagito':'SI',\n",
    "                'Ha visualizzato ma non ha interagito':'NO',\n",
    "                'Non ha visualizzato':'NO'}\n",
    "    DF['Risultato_contatto_Whatsapp']=DF['Risultato_contatto_Whatsapp'].map(risposte2)\n",
    "\n",
    "    #pdb.set_trace()\n",
    "    DF=DF[DF['TIPOLOGIA_UTENTE']!='UTENTI DELAYED'] #Tolgo gli utenti delayed se ce ne fossero\n",
    "    return(DF)\n",
    "\n",
    "def Calc_Funnel(DF,Step,User_id=None):\n",
    "\t\n",
    "\tDF2=DF.copy()\n",
    "\tif (Step!='1'):\n",
    "\t\tDF=DF[((DF['Progressivo_Follow_Up']==Step) & (DF['User_ID'].isin(User_id)))]\n",
    "\t\t\n",
    "\t#STEP 1\n",
    "\t#INTERACTING USERS_1\n",
    "\t#Num di utenti che rispondono al primo contatto\n",
    "\t#Gli interacting users sono quelli che rispondono\n",
    "\tRows_Int=np.where((DF['Progressivo_Follow_Up']==Step) & (DF['Risultato_contatto_Whatsapp']=='SI'))\n",
    "\tNum_Int=len(Rows_Int[0]) #Numero di interacting users\n",
    "\n",
    "\tif Num_Int==0:\n",
    "\t\tpdb.set_trace()\n",
    "\t\tprint('Tutto 0')\n",
    "\t\treturn()\n",
    "\n",
    "\tDenominatore_Int_users=np.where((DF['Progressivo_Follow_Up']==Step) & ((DF['Risultato_contatto_Whatsapp']=='SI') | (DF['Risultato_contatto_Whatsapp']=='NO') | (DF['Risultato_contatto_Whatsapp'].isnull())))\n",
    "\tDenominatore_Int_users=len(Denominatore_Int_users[0]) #Denominatore per calcolare la % di interac.users\n",
    "\n",
    "\t# % degli utenti interacting\n",
    "\t#pdb.set_trace()\n",
    "\tRatio_Int=(Num_Int/Denominatore_Int_users)*100\n",
    "\n",
    "\t#Salvo in un dataframe a parte SOLO gli interactive users\n",
    "\tDF_Int=DF.iloc[Rows_Int] #Rows_Int_1 contiene gli indici di interactive users\n",
    "\n",
    "\t#CONVERTED\n",
    "\n",
    "\t#Utenti dichiarati convertiti - Declared Conversion\n",
    "\tRows_Conv=np.where(DF_Int['Utente_Convertito']=='SI')\n",
    "\tNum_Conv=len(Rows_Conv[0])\n",
    "\n",
    "\tDenominatore_Converted=np.where((DF_Int['Utente_Convertito']=='SI') | (DF_Int['Utente_Convertito']=='NO') | (DF_Int['Utente_Convertito'].isnull()) )\n",
    "\tDenominatore_Converted=len(Denominatore_Converted[0])\n",
    "\tRatio_Conv=(Num_Conv/Denominatore_Converted)*100\n",
    "\n",
    "\t#IN CONVERSION\n",
    "\tRows_InConv=np.where((DF_Int['Utente_Convertito'].isnull())|(DF_Int['Utente_Convertito']=='NO'))\n",
    "\tNum_InConv=len(Rows_InConv[0])\n",
    "\tDenominatore_InConv=Denominatore_Converted\n",
    "\tRatio_InConv=(Num_InConv/Denominatore_InConv)*100\n",
    "\n",
    "\tprint('Step%s: Perc.Interacting %.2f, Perc.Converted %.2f,  Perc.InConversion %.2f' % (Step,Ratio_Int,Ratio_Conv,Ratio_InConv))\n",
    "\t#pdb.set_trace()\n",
    "\t#Ora che ho stampato i risultati per il primo step, devo passare i dati giusti per lo step2\n",
    "\t#Sopravvivono solo gli utenti IN CONVERSION\n",
    "\n",
    "\t#pdb.set_trace()\n",
    "\tRows_InConv=(((DF2['Utente_Convertito'].isnull())) & (DF2['Progressivo_Follow_Up']==Step) & (DF2['Risultato_contatto_Whatsapp']=='SI'))\n",
    "\tUser_ID_InConv=DF2[Rows_InConv]['User_ID']\n",
    "\tUser_ID_InConv=list(User_ID_InConv)\n",
    "\n",
    "\treturn(User_ID_InConv)\n",
    "\n",
    "\n",
    "#MAIN\n",
    "DF=Pulitura_DF(File_name,Start_Day,Start_Month,Start_Year,End_Day,End_Month,End_Year)\n",
    "User_ID_InConv_1=Calc_Funnel(DF,'1')\n",
    "User_ID_InConv_2=Calc_Funnel(DF,'2',User_ID_InConv_1)\n",
    "User_ID_InConv_3=Calc_Funnel(DF,'3',User_ID_InConv_2)\n",
    "User_ID_InConv_4=Calc_Funnel(DF,'4',User_ID_InConv_3)"
   ]
  }
 ],
 "metadata": {
  "kernelspec": {
   "display_name": "Python 3",
   "language": "python",
   "name": "python3"
  },
  "language_info": {
   "codemirror_mode": {
    "name": "ipython",
    "version": 3
   },
   "file_extension": ".py",
   "mimetype": "text/x-python",
   "name": "python",
   "nbconvert_exporter": "python",
   "pygments_lexer": "ipython3",
   "version": "3.6.2"
  }
 },
 "nbformat": 4,
 "nbformat_minor": 2
}
