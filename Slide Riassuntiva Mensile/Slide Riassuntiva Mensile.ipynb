{
 "cells": [
  {
   "cell_type": "markdown",
   "metadata": {},
   "source": [
    "# Slide Riassuntiva Mensile"
   ]
  },
  {
   "cell_type": "markdown",
   "metadata": {},
   "source": [
    "Questo Script calcola i numeri da inserire nella slide"
   ]
  },
  {
   "cell_type": "code",
   "execution_count": 7,
   "metadata": {},
   "outputs": [],
   "source": [
    "import pandas as pd\n",
    "import iqos\n"
   ]
  },
  {
   "cell_type": "markdown",
   "metadata": {},
   "source": [
    "## Zona di INPUT"
   ]
  },
  {
   "cell_type": "code",
   "execution_count": 4,
   "metadata": {},
   "outputs": [],
   "source": [
    "File_name=\"\"\n",
    "Start_Day,Start_Month,Start_Year=1,12,2017\n",
    "End_Day,End_Month,End_Year=31,12,2017"
   ]
  },
  {
   "cell_type": "markdown",
   "metadata": {},
   "source": [
    "## Media Messaggi Scambiati-Num.Eligible Users-Interaction Funnel"
   ]
  },
  {
   "cell_type": "code",
   "execution_count": 5,
   "metadata": {
    "collapsed": true
   },
   "outputs": [
    {
     "name": "stdout",
     "output_type": "stream",
     "text": [
      "Media messaggi scambiati: 9.98691362996\n",
      "Numero Eligible Users  15902\n",
      "Step1: Perc.Interacting 52.52, Perc.Converted 12.99,  Perc.InConversion 87.01\n",
      "Step2: Perc.Interacting 40.83, Perc.Converted 65.58,  Perc.InConversion 34.42\n",
      "Step3: Perc.Interacting 45.10, Perc.Converted 59.42,  Perc.InConversion 40.58\n",
      "Step4: Perc.Interacting 40.00, Perc.Converted 50.00,  Perc.InConversion 50.00\n"
     ]
    }
   ],
   "source": [
    "#Generazione dei Funnels\n",
    "import sys\n",
    "import pandas as pd\n",
    "import numpy as np\n",
    "import pdb\n",
    "import math\n",
    "#Interaction channel\n",
    "\n",
    "def Number_Eligible(DF):\n",
    "\tNum_Eligible=len(DF[DF['Progressivo_Follow_Up']==1])\n",
    "\tprint('Numero Eligible Users ',Num_Eligible)\n",
    "\n",
    "def Calcolo_M_Scambiati_Medio(DF):\n",
    "\tVals=DF['Numero_messaggi_scambiati']\n",
    "\tVals=Vals.dropna()\n",
    "\tVals=pd.to_numeric(Vals, errors='coerce')\n",
    "\tVals=Vals[Vals>4]\n",
    "\tprint('Media messaggi scambiati:',Vals.mean()+1)\n",
    "\n",
    "def Pulitura_DF(File_name,Start_Day,Start_Month,Start_Year,End_Day,End_Month,End_Year,Skip=None):\n",
    "    #pdb.set_trace()\n",
    "    DF=pd.read_csv(File_name ,low_memory=False, sep=',') #apertura file csv\n",
    "    #Pulitura: coach valorizzato, Motivazione: togli num.tel.non valido e telesurvey_primo_contatto\n",
    "    \n",
    "    DF=iqos.Ripulitura(DF)\n",
    "    #Splitta Data Contatto: crea 3 colonne nuove: Day, Month, Year\n",
    "    DF=iqos.Split_Data_in_Day_Month_Year(DF)\n",
    "    #Filtra per data contatto: leggi come funziona funzione Estraction_based_on_dates con SHIFT+TAB\n",
    "    DF=iqos.Estraction_based_on_dates(Start_Day,Start_Month,Start_Year,End_Day,End_Month,End_Year,DF)\n",
    "\n",
    "    Calcolo_M_Scambiati_Medio(DF)\n",
    "    Number_Eligible(DF)\n",
    "\n",
    "    DF=DF[['User_ID','Progressivo_Follow_Up','Risultato_contatto_Whatsapp','Utente_Convertito','TIPOLOGIA_UTENTE']] #prendo le righe che mi servono\n",
    "    DF.User_ID=DF.User_ID.astype(str) #Trasformo in stringa tutto\n",
    "    DF.Progressivo_Follow_Up=DF.Progressivo_Follow_Up.astype(str)\n",
    "    DF.Risultato_contatto_Whatsapp=DF.Risultato_contatto_Whatsapp.astype(str)\n",
    "    DF.Utente_Convertito=DF.Utente_Convertito.astype(str)\n",
    "\n",
    "    DF=DF[DF.Utente_Convertito != 'Light'] #Scarto le righe che contengono light\n",
    "    DF=DF[DF.Progressivo_Follow_Up != 'Spontaneo'] #Scarto le righe che hanno Spontaneo come N_Contatto\n",
    "\n",
    "    #Mapping per inasattezze RISPOSTA\n",
    "    #Infatti, la colonna Risposta contiene il SI e NO scritto in molti modi\n",
    "    #Allora con map posso cambiarli tutti in NO e SI, in questo modo ho solo 2 tipi di risposta\n",
    "    risposte={'SI':'SI','No':'NO','no':'NO','Sì':'SI','NO':'NO'}\n",
    "    #DF['Risultato_contatto_Whatsapp']=DF['Risultato_contatto_Whatsapp'].map(risposte)\n",
    "    DF['Utente_Convertito']=DF['Utente_Convertito'].map(risposte)\n",
    "    risposte2={'Ha visualizzato e interagito':'SI',\n",
    "                'Ha visualizzato ma non ha interagito':'NO',\n",
    "                'Non ha visualizzato':'NO'}\n",
    "    DF['Risultato_contatto_Whatsapp']=DF['Risultato_contatto_Whatsapp'].map(risposte2)\n",
    "\n",
    "    #pdb.set_trace()\n",
    "    DF=DF[DF['TIPOLOGIA_UTENTE']!='UTENTI DELAYED'] #Tolgo gli utenti delayed se ce ne fossero\n",
    "    return(DF)\n",
    "\n",
    "def Calc_Funnel(DF,Step,User_id=None):\n",
    "\t\n",
    "\tDF2=DF.copy()\n",
    "\tif (Step!='1'):\n",
    "\t\tDF=DF[((DF['Progressivo_Follow_Up']==Step) & (DF['User_ID'].isin(User_id)))]\n",
    "\t\t\n",
    "\t#STEP 1\n",
    "\t#INTERACTING USERS_1\n",
    "\t#Num di utenti che rispondono al primo contatto\n",
    "\t#Gli interacting users sono quelli che rispondono\n",
    "\tRows_Int=np.where((DF['Progressivo_Follow_Up']==Step) & (DF['Risultato_contatto_Whatsapp']=='SI'))\n",
    "\tNum_Int=len(Rows_Int[0]) #Numero di interacting users\n",
    "\n",
    "\tif Num_Int==0:\n",
    "\t\tpdb.set_trace()\n",
    "\t\tprint('Tutto 0')\n",
    "\t\treturn()\n",
    "\n",
    "\tDenominatore_Int_users=np.where((DF['Progressivo_Follow_Up']==Step) & ((DF['Risultato_contatto_Whatsapp']=='SI') | (DF['Risultato_contatto_Whatsapp']=='NO') | (DF['Risultato_contatto_Whatsapp'].isnull())))\n",
    "\tDenominatore_Int_users=len(Denominatore_Int_users[0]) #Denominatore per calcolare la % di interac.users\n",
    "\n",
    "\t# % degli utenti interacting\n",
    "\t#pdb.set_trace()\n",
    "\tRatio_Int=(Num_Int/Denominatore_Int_users)*100\n",
    "\n",
    "\t#Salvo in un dataframe a parte SOLO gli interactive users\n",
    "\tDF_Int=DF.iloc[Rows_Int] #Rows_Int_1 contiene gli indici di interactive users\n",
    "\n",
    "\t#CONVERTED\n",
    "\n",
    "\t#Utenti dichiarati convertiti - Declared Conversion\n",
    "\tRows_Conv=np.where(DF_Int['Utente_Convertito']=='SI')\n",
    "\tNum_Conv=len(Rows_Conv[0])\n",
    "\n",
    "\tDenominatore_Converted=np.where((DF_Int['Utente_Convertito']=='SI') | (DF_Int['Utente_Convertito']=='NO') | (DF_Int['Utente_Convertito'].isnull()) )\n",
    "\tDenominatore_Converted=len(Denominatore_Converted[0])\n",
    "\tRatio_Conv=(Num_Conv/Denominatore_Converted)*100\n",
    "\n",
    "\t#IN CONVERSION\n",
    "\tRows_InConv=np.where((DF_Int['Utente_Convertito'].isnull())|(DF_Int['Utente_Convertito']=='NO'))\n",
    "\tNum_InConv=len(Rows_InConv[0])\n",
    "\tDenominatore_InConv=Denominatore_Converted\n",
    "\tRatio_InConv=(Num_InConv/Denominatore_InConv)*100\n",
    "\n",
    "\tprint('Step%s: Perc.Interacting %.2f, Perc.Converted %.2f,  Perc.InConversion %.2f' % (Step,Ratio_Int,Ratio_Conv,Ratio_InConv))\n",
    "\t#pdb.set_trace()\n",
    "\t#Ora che ho stampato i risultati per il primo step, devo passare i dati giusti per lo step2\n",
    "\t#Sopravvivono solo gli utenti IN CONVERSION\n",
    "\n",
    "\t#pdb.set_trace()\n",
    "\tRows_InConv=(((DF2['Utente_Convertito'].isnull())) & (DF2['Progressivo_Follow_Up']==Step) & (DF2['Risultato_contatto_Whatsapp']=='SI'))\n",
    "\tUser_ID_InConv=DF2[Rows_InConv]['User_ID']\n",
    "\tUser_ID_InConv=list(User_ID_InConv)\n",
    "\n",
    "\treturn(User_ID_InConv)\n",
    "\n",
    "\n",
    "#MAIN\n",
    "DF=Pulitura_DF(File_name,Start_Day,Start_Month,Start_Year,End_Day,End_Month,End_Year)\n",
    "User_ID_InConv_1=Calc_Funnel(DF,'1')\n",
    "User_ID_InConv_2=Calc_Funnel(DF,'2',User_ID_InConv_1)\n",
    "User_ID_InConv_3=Calc_Funnel(DF,'3',User_ID_InConv_2)\n",
    "User_ID_InConv_4=Calc_Funnel(DF,'4',User_ID_InConv_3)"
   ]
  }
 ],
 "metadata": {
  "kernelspec": {
   "display_name": "Python 3",
   "language": "python",
   "name": "python3"
  },
  "language_info": {
   "codemirror_mode": {
    "name": "ipython",
    "version": 3
   },
   "file_extension": ".py",
   "mimetype": "text/x-python",
   "name": "python",
   "nbconvert_exporter": "python",
   "pygments_lexer": "ipython3",
   "version": "3.6.2"
  }
 },
 "nbformat": 4,
 "nbformat_minor": 2
}
