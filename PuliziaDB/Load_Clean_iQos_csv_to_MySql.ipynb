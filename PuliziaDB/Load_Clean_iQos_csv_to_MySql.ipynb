{
 "cells": [
  {
   "cell_type": "markdown",
   "metadata": {},
   "source": [
    "## Pulizia DB e upload to MySQL server"
   ]
  },
  {
   "cell_type": "markdown",
   "metadata": {},
   "source": [
    "This script read a CSV, save it in \"df\" variable, clean it:\n",
    "\n",
    "<ul>\n",
    "    <li>1.COACH valorizzato</li>\n",
    "    <li>2.Motivazione: Remove TELESURVEY PRIMO CONTATTO e NUMERO DI TELEFONO NON VALIDO</li>\n",
    "    <li>3.Lead Time: deve essere tra 0 e 100 (Lead time= Data_Contatto-Data_Acquisto)</li>\n",
    "<li>Controllo su Eta: deve essere compresa tra 18 e 100</li>\n",
    "<li>Accorcia Colonne troppo lunghe perchè non compatibili con MySQL</li>\n",
    "   </ul>"
   ]
  },
  {
   "cell_type": "markdown",
   "metadata": {},
   "source": [
    "## Load CSV and Riduce Columns Name(too long for SQL)"
   ]
  },
  {
   "cell_type": "code",
   "execution_count": 245,
   "metadata": {},
   "outputs": [],
   "source": [
    "import pandas as pd\n",
    "import sys\n",
    "import numpy as np\n",
    "from sqlalchemy import create_engine\n",
    "import iqos"
   ]
  },
  {
   "cell_type": "code",
   "execution_count": 252,
   "metadata": {},
   "outputs": [],
   "source": [
    "#CARICA E RENAME COLONNE troppo lunghe\n",
    "df=pd.read_csv('ExportScaricato23Novembre2017.csv',low_memory=False,encoding='utf-8')\n",
    "df.rename(columns={'FONTE_IQOS_STORE___Il_rivenditore_ha_parlato_dei_vantaggi_della_registrazione_': 'Rivenditore_ha_parlato_vantaggi_registrazione', \n",
    "                   'FONTE_IQOS_STORE___La_qualità_dell_esperienza_in_IQOS_Store_è_stata_':'La_qualità_esperienza_in_IQOSStore_stata',\n",
    "                   'TEMPORARY_STORE___sei_soddisfatto_del_prodotto__Lo_consiglieresti_agli_amici_': 'Sei_soddisfatto_del_prodotto__Lo_consiglieresti_agli_amici',\n",
    "                  'FONTE_IQOS_STORE___Il_rivenditore_ha_comunicato_i_benefici_del_prodotto_':'Il_rivenditore_ha_comunicato_i_benefici_del_prodotto'}, inplace=True)\n",
    "\n",
    "if 'Data_Creazione' not in df.columns:\n",
    "    print('Colonna \"Data Creazione\" mancante. La aggiungo')\n",
    "    df['Data_Creazione']=np.nan\n",
    "\n",
    "df[\"Data_contatto\"] = pd.to_datetime(df[\"Data_contatto\"],dayfirst=True)\n",
    "df[\"Data_Acquisto\"] = pd.to_datetime(df[\"Data_Acquisto\"],dayfirst=True)\n",
    "df['Data_Follow_Up']=pd.to_datetime(df[\"Data_Follow_Up\"],dayfirst=True)\n",
    "#Il formato è ANNO/MESE/GIORNO"
   ]
  },
  {
   "cell_type": "markdown",
   "metadata": {},
   "source": [
    "## Regola 1: COACH VALORIZZATO + <br>Regola 2: Correggi motivazione"
   ]
  },
  {
   "cell_type": "code",
   "execution_count": 210,
   "metadata": {},
   "outputs": [],
   "source": [
    "df=iqos.Ripulitura(df) #Regola 1 e 2"
   ]
  },
  {
   "cell_type": "markdown",
   "metadata": {},
   "source": [
    "## Regola 3: Controllo Lead Time (tra 0 e 100 days)"
   ]
  },
  {
   "cell_type": "code",
   "execution_count": 213,
   "metadata": {},
   "outputs": [],
   "source": [
    "#Controllo su valori di Lead Time\n",
    "#Calcolo Lead Time\n",
    "df[\"Lead_Time\"] = (df[\"Data_contatto\"] - df[\"Data_Acquisto\"])\n",
    "df = df[df['Lead_Time'].between('0 days', '100 days', inclusive=True)]"
   ]
  },
  {
   "cell_type": "markdown",
   "metadata": {},
   "source": [
    "## Regola 4: (Utente_Convertito = SI)  AND (Tipo_di_Utilizzo diverso da (Esclusivo/Prevalent)) vanno eliminati"
   ]
  },
  {
   "cell_type": "code",
   "execution_count": 214,
   "metadata": {},
   "outputs": [],
   "source": [
    "Condizione1 = df['Utente_Convertito']=='SI'\n",
    "Condizione2 = ~(df['Tipo_di_Utilizzo'].isin(['Esclusivo','Prevalente']))\n",
    "Condizione3 = df['Tipo_di_Utilizzo'].notnull()\n",
    "#Condizione1 trova le righe con Utente_Convertito=SI \n",
    "#Condizione2 trova le righe che hanno TipoUtilizzo DIVERSO da Esclusivo e Prevalente\n",
    "# (Condizione1 & Condizione2) quindi darebbe TRUE su tutte le righe con Utente_Convert=SI e Tipo_Utilizzo diverso da \n",
    "# Esclusivo o Prevalente\n",
    "#Allora, siccome voglio prendere le rimanenti, devo negare tutto\n",
    "\n",
    "df=df[~(Condizione1 & Condizione2 & Condizione3)]"
   ]
  },
  {
   "cell_type": "markdown",
   "metadata": {},
   "source": [
    "## Regola 5: Se  Ha_iniziato_a_usare_Iqos = No AND Utente_Convertito = Si cambia Utente_Convertito a No"
   ]
  },
  {
   "cell_type": "code",
   "execution_count": 215,
   "metadata": {},
   "outputs": [],
   "source": [
    "Condizione=(df['Utente_Convertito']=='SI') & (df['Ha_iniziato_a_usare_Iqos']=='NO')\n",
    "df.loc[Condizione,'Utente_Convertito']='NO'"
   ]
  },
  {
   "cell_type": "markdown",
   "metadata": {},
   "source": [
    "## Regola 6: Se Progressivo_Follow_Up = 1 \n",
    "## AND \n",
    "## (Utente_Convertito = Si AND Risultato_contatto_Whatsapp != Ha visualizzato e interagito) change Risultato_contatto_Whatsapp to “Ha visualizzato e interagito"
   ]
  },
  {
   "cell_type": "code",
   "execution_count": 216,
   "metadata": {},
   "outputs": [],
   "source": [
    "Condizione=(df['Utente_Convertito']=='SI') & (df['Risultato_contatto_Whatsapp']!='Ha visualizzato e interagito')\n",
    "df.loc[Condizione,'Risultato_contatto_Whatsapp']='Ha visualizzato e interagito'"
   ]
  },
  {
   "cell_type": "markdown",
   "metadata": {},
   "source": [
    "## Regola 7: \n",
    "## Se progressivo=1 and \"Ris.Contatto WA\"=\"Non ha interagito\" o \n",
    "## \"Ha viz ma non risposto\" e \"Num.Messaggi>2\" qualcosa non va\n",
    "## Num mex scambiati = 2"
   ]
  },
  {
   "cell_type": "code",
   "execution_count": 217,
   "metadata": {},
   "outputs": [],
   "source": [
    "Condizione=(df['Progressivo_Follow_Up']==1) & (df['Risultato_contatto_Whatsapp'].isin(['Non ha visualizzato','Ha visualizzato ma non ha interagito']))\n",
    "Condizione2=df['Numero_messaggi_scambiati'].str.isnumeric()>2\n",
    "df[Condizione & Condizione2]['Numero_messaggi_scambiati']=2"
   ]
  },
  {
   "cell_type": "markdown",
   "metadata": {},
   "source": [
    "## Regola 8: Se ha “interagito= NO” AND “Numero messaggi scambiati” >2 (tra 3 e 10) Change Ha interagito = SI\n",
    " "
   ]
  },
  {
   "cell_type": "code",
   "execution_count": 218,
   "metadata": {},
   "outputs": [],
   "source": [
    "Condizione=df['Risultato_contatto_Whatsapp'].isin(['Ha visualizzato ma non ha interagito','Non ha visualizzato'])\n",
    "Condizione2=df['Numero_messaggi_scambiati'].str.isnumeric()>2\n",
    "df[Condizione & Condizione2]['Risultato_contatto_Whatsapp']='Ha visualizzato e interagito'"
   ]
  },
  {
   "cell_type": "markdown",
   "metadata": {},
   "source": [
    "## Regola 9: Se Informer (Contatto_Lending”=1) e “Informer”=Vuoto, c’è qualcosa che problema perchè Informer non può essere vuoto.  (a Cuccioli l’ultima parola)"
   ]
  },
  {
   "cell_type": "code",
   "execution_count": 219,
   "metadata": {},
   "outputs": [],
   "source": [
    "Condizione=(df['Contatto_Lending']==1) & (df['Nome_Informer'].isnull())\n",
    "df.loc[Condizione,'Nome_Informer']='Anonimo'"
   ]
  },
  {
   "cell_type": "markdown",
   "metadata": {},
   "source": [
    "## Regola 10: Controllo su età, compresa tra 18 e 100"
   ]
  },
  {
   "cell_type": "code",
   "execution_count": 220,
   "metadata": {
    "scrolled": true
   },
   "outputs": [
    {
     "name": "stdout",
     "output_type": "stream",
     "text": [
      "Perdita Dataset Età: % di perdita se considerassi solo età 18-100 anni: 0.9977709280253557\n"
     ]
    }
   ],
   "source": [
    "import numpy as np\n",
    "Condizione=df['Data_di_nascita'].notnull()\n",
    "df['Eta']=np.nan\n",
    "df.loc[Condizione,'Eta']=df.loc[Condizione,'Data_di_nascita'].apply(lambda x: x.split(' ')[0].split('/')[-1])\n",
    "df.loc[Condizione,'Eta']=df.loc[Condizione,'Eta'].apply(lambda x: int(x)-2017)\n",
    "C=df['Eta'].between(18,100)\n",
    "print('Perdita Dataset Età: % di perdita se considerassi solo età 18-100 anni: {}'.format((df['Eta'].shape[0]-df.loc[C].shape[0])/df['Eta'].shape[0]))"
   ]
  }
 ],
 "metadata": {
  "kernelspec": {
   "display_name": "Python 3",
   "language": "python",
   "name": "python3"
  },
  "language_info": {
   "codemirror_mode": {
    "name": "ipython",
    "version": 3
   },
   "file_extension": ".py",
   "mimetype": "text/x-python",
   "name": "python",
   "nbconvert_exporter": "python",
   "pygments_lexer": "ipython3",
   "version": "3.6.2"
  }
 },
 "nbformat": 4,
 "nbformat_minor": 2
}
